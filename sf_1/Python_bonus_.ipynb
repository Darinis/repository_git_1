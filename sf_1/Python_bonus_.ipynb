{
 "cells": [
  {
   "cell_type": "code",
   "execution_count": 1,
   "metadata": {},
   "outputs": [
    {
     "name": "stdout",
     "output_type": "stream",
     "text": [
      "The Zen of Python, by Tim Peters\n",
      "\n",
      "Beautiful is better than ugly.\n",
      "Explicit is better than implicit.\n",
      "Simple is better than complex.\n",
      "Complex is better than complicated.\n",
      "Flat is better than nested.\n",
      "Sparse is better than dense.\n",
      "Readability counts.\n",
      "Special cases aren't special enough to break the rules.\n",
      "Although practicality beats purity.\n",
      "Errors should never pass silently.\n",
      "Unless explicitly silenced.\n",
      "In the face of ambiguity, refuse the temptation to guess.\n",
      "There should be one-- and preferably only one --obvious way to do it.\n",
      "Although that way may not be obvious at first unless you're Dutch.\n",
      "Now is better than never.\n",
      "Although never is often better than *right* now.\n",
      "If the implementation is hard to explain, it's a bad idea.\n",
      "If the implementation is easy to explain, it may be a good idea.\n",
      "Namespaces are one honking great idea -- let's do more of those!\n"
     ]
    }
   ],
   "source": [
    "import this"
   ]
  },
  {
   "cell_type": "code",
   "execution_count": 8,
   "metadata": {},
   "outputs": [
    {
     "name": "stdout",
     "output_type": "stream",
     "text": [
      "ok aghqrhhhhh TGETET bsbzb fsaafgg ggg Gggsag gbgasbgasb\n"
     ]
    }
   ],
   "source": [
    "print('ok aghqrhhhhh TGETET bsbzb fsaafgg \\\n",
    "ggg Gggsag gbgasbgasb')"
   ]
  },
  {
   "cell_type": "code",
   "execution_count": 9,
   "metadata": {},
   "outputs": [],
   "source": [
    "# Yes\n",
    "list_of_numbers = [    \n",
    "    1, 2, 3,\n",
    "    4, 5, 6,\n",
    "    7, 8, 9    \n",
    "    ]"
   ]
  },
  {
   "cell_type": "code",
   "execution_count": 10,
   "metadata": {},
   "outputs": [],
   "source": [
    "#Yes\n",
    "list_of_numbers = [    \n",
    "    1, 2, 3,\n",
    "    4, 5, 6,\n",
    "    7, 8, 9    \n",
    "]"
   ]
  },
  {
   "cell_type": "code",
   "execution_count": 17,
   "metadata": {},
   "outputs": [],
   "source": [
    "list_of_numbers = [    \n",
    "    1, 2, 3,\n",
    "    3, 5, 12,\n",
    "    13, 34, 5425    \n",
    "]"
   ]
  },
  {
   "cell_type": "code",
   "execution_count": 12,
   "metadata": {},
   "outputs": [
    {
     "data": {
      "text/plain": [
       "[1, 2, 3, 3, 5, 12, 13, 34, 5425]"
      ]
     },
     "execution_count": 12,
     "metadata": {},
     "output_type": "execute_result"
    }
   ],
   "source": [
    "list_of_numbers"
   ]
  },
  {
   "cell_type": "markdown",
   "metadata": {},
   "source": [
    "## Комментрии в функциях"
   ]
  },
  {
   "cell_type": "code",
   "execution_count": 13,
   "metadata": {},
   "outputs": [],
   "source": [
    "def quadratic(a, b, c):\n",
    "    \"\"\"Solve quadratic equation via the quadratic formula.\n",
    "\n",
    "    A quadratic equation has the following form:\n",
    "    ax**2 + bx + c = 0\n",
    "\n",
    "    There always two solutions to a quadratic equation: x_1 & x_2.\n",
    "    \"\"\"\n",
    "    x_1 = (- b+(b**2-4*a*c)**(1/2)) / (2*a)\n",
    "    x_2 = (- b-(b**2-4*a*c)**(1/2)) / (2*a)\n",
    "\n",
    "    return x_1, x_2"
   ]
  },
  {
   "cell_type": "code",
   "execution_count": null,
   "metadata": {},
   "outputs": [],
   "source": [
    "def get_median(numbers_list):\n",
    "    \"\"\"Function to calculate median of a list.\"\"\"\n",
    "    if len(numbers_list) % 2 == 0:\n",
    "        return (numbers_list[int(len(numbers_list) / 2) - 1] \n",
    "                + numbers_list[int(len(numbers_list) / 2)]) / 2\n",
    "    else:\n",
    "        return numbers_list_list[int(len(numbers_list) / 2)]  "
   ]
  },
  {
   "cell_type": "code",
   "execution_count": null,
   "metadata": {},
   "outputs": [],
   "source": []
  },
  {
   "cell_type": "code",
   "execution_count": null,
   "metadata": {},
   "outputs": [],
   "source": [
    "Num = input(\"Enter a number: \")\n",
    "ost = Num%\n",
    "2\n",
    "if ost > 0:    \n",
    "  print(\"You picked an odd number.\")\n",
    "else:\n",
    "  print(\"You picked an even number.\")"
   ]
  }
 ],
 "metadata": {
  "kernelspec": {
   "display_name": "Python 3",
   "language": "python",
   "name": "python3"
  },
  "language_info": {
   "codemirror_mode": {
    "name": "ipython",
    "version": 3
   },
   "file_extension": ".py",
   "mimetype": "text/x-python",
   "name": "python",
   "nbconvert_exporter": "python",
   "pygments_lexer": "ipython3",
   "version": "3.8.5"
  }
 },
 "nbformat": 4,
 "nbformat_minor": 4
}
